{
 "cells": [
  {
   "cell_type": "code",
   "execution_count": null,
   "id": "b2044cd5",
   "metadata": {},
   "outputs": [],
   "source": [
    "import numpy as np\n",
    "from numpy.linalg import eig\n",
    "import matplotlib.pyplot as plt\n",
    "from matplotlib import cm \n",
    "\n",
    "import odesolver as ode\n",
    "\n",
    "from matplotlib import animation, rc\n",
    "from IPython.display import HTML"
   ]
  },
  {
   "cell_type": "markdown",
   "id": "540a4806",
   "metadata": {},
   "source": [
    "### Numerische Mathematik3 WiSe2023, Prof. Hausser\n",
    "### Projektarbeit2\n",
    "# Stiff Differential Equation\n",
    "## Heehwan Soul, Hajin Suh"
   ]
  },
  {
   "cell_type": "markdown",
   "id": "86947052",
   "metadata": {},
   "source": [
    "### Contents\n",
    "### 1. Relation between Stiffness and Eigenvalues\n",
    "    1.1. Engenvalues of A\n",
    "    1.2. Zeitschrrittbeschaenkung of Various Methods\n",
    "    1.3. Analytical method for Eigenvalues\n",
    "### 2. Implementation and Test with Explicit and Implicit Euler Method\n",
    "    2.1. Case 1: g_1(t) = g_2(t) = 0 and q(x,1) = 1\n",
    "    2.2. Test with 'Ortsabhängige Anfangsbedingung'\n",
    "    2.3. Test with 'Orts- und zeitabhängige Quelle'\n",
    "    2.4. Test with 'Zeitabhängige Dirichlet-Randbedingungen'\n",
    "### 3. Konvektionsdiffusionsgleichung\n",
    "    3.1.Derivation of Matrixnotation\n",
    "    3.2.Solver"
   ]
  },
  {
   "cell_type": "markdown",
   "id": "6eea862c",
   "metadata": {},
   "source": [
    "--------------------"
   ]
  },
  {
   "cell_type": "markdown",
   "id": "43f3c983",
   "metadata": {},
   "source": [
    "# 1. Relation between Stiffness and Eigenvalues"
   ]
  },
  {
   "cell_type": "markdown",
   "id": "22f71007",
   "metadata": {},
   "source": [
    "In the project, we will discuss about the Parabolic Anfangsrandwertproblem (ARWP) with Linienmethode with finite Difference Method. In the Notebook 9, the equation is derived by 2 steps. Therefore, we will solve the following Anfangswertproblem AWP : \n",
    "$$\n",
    "\\boxed{ \n",
    "u^\\prime (t) = Au + b(t), \\, t \\in [t_0, t_f], \\qquad u(t_0) = u^0\n",
    "}\n",
    "$$\n",
    "$$\n",
    "u(t) := \\begin{pmatrix} u_1(t) \\\\ u_2(t) \\\\  \\vdots \\\\ u_{n-2} (t)\\\\ u_{n-1} (t) \\end{pmatrix},  \\quad\n",
    "u^0  := \\begin{pmatrix} u^0(x_1) \\\\ u^0(x_2) \\\\  \\vdots \\\\ u^0(x_{n-2}) \\\\ u^0 (x_{n-1}) \\end{pmatrix},  \\quad\n",
    "$$\n",
    "$$\n",
    "b(t) := \\begin{pmatrix} q_1(t) \\\\ q_2(t) \\\\ \\vdots \\\\ q_{n-2} \\\\ q_{n-1} (t) \\end{pmatrix} + \n",
    "       \\frac{D}{h_x^2} \\begin{pmatrix} g_1(t) \\\\ 0 \\\\ \\vdots \\\\ 0 \\\\ g_{2} (t) \\end{pmatrix}, \\quad\n",
    "A = \\frac{D}{h_x^2} \n",
    "    \\begin{pmatrix} \n",
    "              -2 & 1 &  & & \\\\\n",
    "              1 & -2 & 1 &  & \\\\\n",
    "                & \\ddots & \\ddots & \\ddots & \\\\\n",
    "                &  & 1& -2  & 1 \\\\\n",
    "                & &  & 1 & -2 \n",
    "              \\end{pmatrix}  \\in \\mathbb{R}^{(n-1)\\times (n-1)}\n",
    "$$\n",
    "\n",
    "First, we will investigate the Matrix $A$ to decide the stiffness. The statement we wanna prove is that the AWP above gets more stiffer as $n$ increases. For that, we will assume that $D=1$ and $L=1$."
   ]
  },
  {
   "cell_type": "code",
   "execution_count": null,
   "id": "09f6b5ee",
   "metadata": {},
   "outputs": [],
   "source": [
    "D = 1.\n",
    "L = 1."
   ]
  },
  {
   "cell_type": "markdown",
   "id": "4e7e30cd",
   "metadata": {},
   "source": [
    "The following functions create the tridiagonal Matrix $A$ :"
   ]
  },
  {
   "cell_type": "code",
   "execution_count": null,
   "id": "7aca1225",
   "metadata": {},
   "outputs": [],
   "source": [
    "def tridiag(low, mid, up):\n",
    "    return np.diag(low, -1) + np.diag(mid, 0) + np.diag(up, 1)\n",
    "\n",
    "def stiffness(m, D, h):\n",
    "    low = np.ones(m-1)\n",
    "    mid = -2.*np.ones(m); \n",
    "    A  = D/h/h * tridiag(low, mid, low)\n",
    "    return A"
   ]
  },
  {
   "cell_type": "markdown",
   "id": "7b5c7626",
   "metadata": {},
   "source": [
    "## 1.1. Engenvalues of A"
   ]
  },
  {
   "cell_type": "markdown",
   "id": "9f01be60",
   "metadata": {},
   "source": [
    "To calculate the matrix $A$, we need the constant mesh grid $h_x = L/n$. The following for-loop is runned for various number of Teilintervall $n$ of the matrix $A$. When the number of Teilintervall is $n$, the dimension of A is $(n-1)  \\times  (n-1)$ and also the size of other vectors are $n-1$. In the loop, we calculate $h_x$, corresponding eigenvalues,and the quotient of the maximum and minimum absolute values of eigenvlues. \n",
    "$$\n",
    "\\frac{ \\max_i |\\lambda_i|  } { \\min_i | \\lambda_i | }$$\n",
    "The results are visualized."
   ]
  },
  {
   "cell_type": "code",
   "execution_count": null,
   "id": "f3ad75e5",
   "metadata": {
    "scrolled": false
   },
   "outputs": [],
   "source": [
    "# lists to save results\n",
    "nList = []\n",
    "hxList = []\n",
    "evalueList = []\n",
    "num_evalueList = []\n",
    "evalueMaxList = []\n",
    "evalueMinList = []\n",
    "quotientList = []\n",
    "for n in range(5, 20):\n",
    "    nList.append(n)\n",
    "    \n",
    "    # constant mesh grid for A\n",
    "    hx = L/n \n",
    "    hxList.append(hx)\n",
    "    \n",
    "    # dimension of A = number of Teilintervall - 1\n",
    "    m = n-1\n",
    "    # creating tridiagonal matrix for the equation above\n",
    "    A  = stiffness(m, D, hx)\n",
    "    \n",
    "    # eigenvalues\n",
    "    eigenvalues, _ = eig(A)\n",
    "    eigenvalues.sort()\n",
    "    \n",
    "    # save all eigenvalues for each n\n",
    "    evalueList.append(eigenvalues)\n",
    "    \n",
    "    # how many eigenvalues each n has\n",
    "    num_evalueList.append(len(eigenvalues))\n",
    "    \n",
    "    # Max and min eigenvalues for each n\n",
    "    evalueMaxList.append(abs(eigenvalues[0]))\n",
    "    evalueMinList.append(eigenvalues[-1])\n",
    "    \n",
    "    # quotient of max and min of absolute of eigenvalues\n",
    "    quotientList.append(abs(eigenvalues[0])/abs(eigenvalues[-1]))"
   ]
  },
  {
   "cell_type": "markdown",
   "id": "09b54168",
   "metadata": {},
   "source": [
    "### Are all eigenvalues real numbers?"
   ]
  },
  {
   "cell_type": "code",
   "execution_count": null,
   "id": "b3268b5f",
   "metadata": {},
   "outputs": [],
   "source": [
    "# one example having numpy.float data type\n",
    "floatType = np.array([4.8])[0]\n",
    "real_num_evalueList = []\n",
    "\n",
    "for p in range(len(nList)):\n",
    "    n = nList[p]\n",
    "    count = 0\n",
    "    for q in range(n-1):\n",
    "        evalue = evalueList[p][q]\n",
    "        if type(evalue)==type(floatType):\n",
    "            count +=1\n",
    "    real_num_evalueList.append(count)"
   ]
  },
  {
   "cell_type": "code",
   "execution_count": null,
   "id": "c3533363",
   "metadata": {},
   "outputs": [],
   "source": [
    "plt.figure(figsize=(8,4))\n",
    "plt.rcParams.update({'font.size': 8})\n",
    "\n",
    "plt.plot(nList, num_evalueList, 'b', label ='all EV')\n",
    "plt.plot(nList, real_num_evalueList, 'ro', label = 'only real EV')\n",
    "plt.grid()\n",
    "plt.xlabel('n')\n",
    "plt.ylabel('number of (real) eigenvalues')\n",
    "plt.xticks(np.arange(5,20,1))\n",
    "plt.yticks(np.arange(4,20,1))\n",
    "plt.title('number of real eigenvalues depending  on n')\n",
    "plt.legend()\n",
    "plt.show()"
   ]
  },
  {
   "cell_type": "markdown",
   "id": "3017ac2f",
   "metadata": {},
   "source": [
    "We can check how many eigenvalues each $n$ has and of them how many are real numbers. The variable 'floatType' below is just one example of numpy.float datatype to compare with all the eigenvalues in the list.\n",
    "We can see that all the eigenvalues of each $n$ are real numbers. The symmetric matrix has always only real eigenvalues and the matrix $A$ is symmetric as we can see above. Moreover, eigenvectos of symmetric matrix corresponding eigenvectors are orthogonal."
   ]
  },
  {
   "cell_type": "markdown",
   "id": "f5a295f0",
   "metadata": {},
   "source": [
    "### Are all eigenvalues negative?"
   ]
  },
  {
   "cell_type": "code",
   "execution_count": null,
   "id": "051a62f8",
   "metadata": {},
   "outputs": [],
   "source": [
    "# lists saivng all eigenvalues to draw the graph depending on n    \n",
    "nGraph = []\n",
    "evalueGraph = []\n",
    "for p in range(len(nList)):\n",
    "    n = nList[p]\n",
    "    for q in range(n-1):\n",
    "        nGraph.append(n)\n",
    "        evalueGraph.append(evalueList[p][q])"
   ]
  },
  {
   "cell_type": "code",
   "execution_count": null,
   "id": "8d961227",
   "metadata": {},
   "outputs": [],
   "source": [
    "plt.figure(figsize=(8,8))\n",
    "plt.rcParams.update({'font.size': 8})\n",
    "\n",
    "plt.subplot(211)\n",
    "plt.scatter(nGraph, evalueGraph, s=8, color = 'b')\n",
    "plt.xlabel('n')\n",
    "plt.ylabel('eigenvalues')\n",
    "plt.title('all eigenvalues depending  on n')\n",
    "\n",
    "plt.subplot(212)\n",
    "plt.plot(nList, evalueMinList, 'bo')\n",
    "plt.title('minimum absolute of eigenvalues depending  on n')\n",
    "plt.show()"
   ]
  },
  {
   "cell_type": "markdown",
   "id": "9e652599",
   "metadata": {},
   "source": [
    "From the second graph, we can see the minimum absolute value of eigenvalues for each $n$ is negative. Also from the first graph dots for the same $n$ mean all the eigenvalues for that $n$. We can see all eigenvalues for each $n$ are all negative. When the matrix $A$ is negative definitiv, its eigenvalues are all negative. When all eigenvalues are negative, the process has stability which means $u$ approach $0$ when $t$ gets bigger. In the scalar cases, we could already learn that the function gets smaller to $0$ when eigenvalue is negative."
   ]
  },
  {
   "cell_type": "markdown",
   "id": "4ceb809e",
   "metadata": {},
   "source": [
    "### Quotient of max and min of absolute of eigenvalues?"
   ]
  },
  {
   "cell_type": "code",
   "execution_count": null,
   "id": "7bc3b204",
   "metadata": {},
   "outputs": [],
   "source": [
    "plt.figure(figsize=(8,8))\n",
    "plt.rcParams.update({'font.size': 8})\n",
    "\n",
    "plt.subplot(211)\n",
    "plt.plot(nList, quotientList,'bo')\n",
    "plt.grid()\n",
    "plt.xlabel('n')\n",
    "plt.ylabel('Quotienten')\n",
    "plt.title('Quotienten von eigenwerten Max/Min')\n",
    "\n",
    "\n",
    "plt.subplot(212)\n",
    "plt.plot(nList, quotientList,'bo', label='quotient')\n",
    "t = np.linspace(5,20,100)\n",
    "plt.plot(t, t**2, label='y=t^2')\n",
    "plt.xlabel('n')\n",
    "plt.ylabel('Quotienten')\n",
    "plt.title('Quotienten with Log scale')\n",
    "plt.yscale('log')\n",
    "plt.xscale('log')\n",
    "plt.legend()\n",
    "plt.show()"
   ]
  },
  {
   "cell_type": "markdown",
   "id": "0813a339",
   "metadata": {},
   "source": [
    "As $n$ gets bigger, the quotient of max and min of eigenvalues gets bigger. When one element of the solution vector $u(t)$ is way more rapidly changing compared to other elements, the AWP can be called as stiff equation. \n",
    "\n",
    "When all eigenvalues are negative like the matrix $A$, the values of each elements of $u(t)$ decrease. When the absolute value of one of eigenvalues gets bigger, the Zeitschrittebeschranke gets smaller. And with this small Zeitschrittebeschrake, other elements decrease very slow. The size of Zeitschritt for numerical solver is decided by the element with the maximum absolute of eigenvalue but the time to be solved is decided by the element decreasing the most slowly. \n",
    "\n",
    "If eigenvalues are similary big or similary small together, it is not a problem, but if one absolute value is very big compared to other values, other elements approach 0 too slowly. So we can say that when quotient of maximum and minimum of absolute of eigenvalues gets bigger, the equation is stiffer. We can assume it gets stiffer as n gets bigger."
   ]
  },
  {
   "cell_type": "markdown",
   "id": "e585dc4f",
   "metadata": {},
   "source": [
    "## 1.2. Zeitschrrittbeschaenkung of Various Methods\n"
   ]
  },
  {
   "cell_type": "markdown",
   "id": "fd21dcdf",
   "metadata": {},
   "source": [
    "So that differential equation has an asymptotic stability to be solved, the Zeitschrittweit $\\tau$ for the numberical solvers should be limited as :\n",
    "\n",
    "For explicit Euler method :\n",
    "$$\\boxed{ \\tau < \\frac{2}{| \\lambda_\\mathrm{max} |} } $$\n",
    "For Runge-Kutta method :\n",
    "$$\\boxed{ \\tau < \\frac{2 \\sqrt{2}}{| \\lambda_\\mathrm{max} |} } $$"
   ]
  },
  {
   "cell_type": "code",
   "execution_count": null,
   "id": "2e196df6",
   "metadata": {},
   "outputs": [],
   "source": [
    "plt.figure(figsize=(8,8))\n",
    "plt.rcParams.update({'font.size': 8})\n",
    "\n",
    "plt.subplot(211)\n",
    "tauEulerList = 2/np.array(evalueMaxList)\n",
    "tauRKVList = 2*np.sqrt(2)/np.array(evalueMaxList)\n",
    "plt.plot(nList, tauEulerList, 'r', label='explizit euler')\n",
    "plt.plot(nList, tauRKVList, 'b', label='RKV')\n",
    "plt.grid()\n",
    "plt.xlabel('n')\n",
    "plt.ylabel('tau_max')\n",
    "plt.title('Zeitschrittbeschranke')\n",
    "plt.legend()\n",
    "\n",
    "plt.subplot(212)\n",
    "n_exp_List = []\n",
    "evalue_exp_List = []\n",
    "evalueMax_exp_List = []\n",
    "\n",
    "for i in range(2,12):\n",
    "    n = 2**i\n",
    "    n_exp_List.append(n)\n",
    "    \n",
    "    hx = L/n \n",
    "    m = n-1\n",
    "    A  = stiffness(m, D, hx)  \n",
    "    eigenvalues, _ = eig(A)\n",
    "    eigenvalues.sort()\n",
    "    evalue_exp_List.append(eigenvalues)\n",
    "    evalueMax_exp_List.append(abs(eigenvalues[0]))\n",
    "    \n",
    "tauEulerList = 2/np.array(evalueMax_exp_List)\n",
    "tauRKVList = 2*np.sqrt(2)/np.array(evalueMax_exp_List)\n",
    "plt.plot(n_exp_List, tauEulerList, 'r', label='explizit euler')\n",
    "plt.plot(n_exp_List, tauRKVList, 'b', label='RKV')\n",
    "t = np.linspace(5,2**11,1000)\n",
    "plt.plot(t, t**(-2), 'g', label='y=n^(-2)')\n",
    "plt.xlabel('n')\n",
    "plt.ylabel('tau_max')\n",
    "plt.title('Zeitschrittbeschranke (Log scale)')\n",
    "plt.xscale('log')\n",
    "plt.yscale('log')\n",
    "plt.legend()\n",
    "plt.show()"
   ]
  },
  {
   "cell_type": "markdown",
   "id": "566e2a97",
   "metadata": {},
   "source": [
    "From the first graph, as $n$ gets bigger, the Zeitschrittbeschranke($\\tau_{max}$) gets smaller. Small $\\tau_{max}$ means the size of Zeitschritt $\\tau$ must be small to make the equation having asymptotic stability. Then we can say it is stiff. Same as the result of 1.1., as $n$ gets bigger, the size of Zeitschritt $\\tau$ needs to be smaller and the eqaution is more stiffer. \n",
    "\n",
    "Moreover $\\tau_{max}$ of Runge-Kutta method is bigger than $\\tau_{max}$ of explicit Euler method. So we can assume that Runge-Kutta method is better than explicit Euler method to solve the stiff equation.\n",
    "\n",
    "From the second graph, the graphs with log scale look like linear functions. They are parallel with $y=n^{-2}$. It means the value of Zeitschrittebeschranke is inversly proportional to $n^{2}$."
   ]
  },
  {
   "cell_type": "markdown",
   "id": "bb99830d",
   "metadata": {},
   "source": [
    "To understand the reason analytically, we can use the formula that will be addressed in 1.3. \n",
    "$$ \\lambda = \\frac{-4D}{h_x^2} sin^{2}(\\frac{j\\pi}{2n}) $$\n",
    "We will investigate using it for explicit Euler method.\n",
    "$$\\tau < \\frac{2}{| \\lambda_\\mathrm{max} |}$$\n",
    "$$ = \\frac{2}{max (| \\frac{-4D}{h_x^2} sin^{2}(\\frac{j\\pi}{2n})|)} $$\n",
    "Since $D=1$,\n",
    "$$ = \\frac{h_x^2}{max (2sin^{2}(\\frac{j\\pi}{2n}))} $$\n",
    "Since $L=1$ and $h_{x}= \\frac{L}{n} = \\frac{1}{n}$,\n",
    "$$ = \\frac{(\\frac{1}{n})^2}{max (2sin^{2}(\\frac{j\\pi}{2n}))} $$\n",
    "Since $ 0 \\leq  sin^{2}(\\frac{j\\pi}{2n}) \\leq   1$, \n",
    "$$max (2sin^{2}(\\frac{j\\pi}{2n})) = 2$$\n",
    "Therefore, for explicit euler,\n",
    "$$\\tau_{max} = \\frac{1}{2}n^{-2}$$"
   ]
  },
  {
   "cell_type": "markdown",
   "id": "c087436f",
   "metadata": {},
   "source": [
    "If we draw $ y = \\frac{1}{2}n^{-2}$ on the same axis with graph for explicit euler method,"
   ]
  },
  {
   "cell_type": "code",
   "execution_count": null,
   "id": "409ce222",
   "metadata": {},
   "outputs": [],
   "source": [
    "tauEulerList = 2/np.array(evalueMax_exp_List)\n",
    "plt.plot(n_exp_List, tauEulerList, 'ro', label='explizit euler')\n",
    "t = np.linspace(5,2**11,1000)\n",
    "plt.plot(t, 0.5*t**(-2), 'g', label='y=0.5*n^(-2)')\n",
    "plt.xlabel('n')\n",
    "plt.ylabel('tau_max')\n",
    "plt.title('Zeitschrittbeschranke of explicit euler')\n",
    "plt.xscale('log')\n",
    "plt.yscale('log')\n",
    "plt.legend()\n",
    "plt.show()"
   ]
  },
  {
   "cell_type": "markdown",
   "id": "e9dc5147",
   "metadata": {},
   "source": [
    "## 1.3. Analytical method for Eigenvalues"
   ]
  },
  {
   "cell_type": "markdown",
   "id": "e7ad883c",
   "metadata": {},
   "source": [
    "Even though in the most of general case, the eigenvalues cannot be calculated analytically, the given equation has an analytic formula of eigenvalues. \n",
    "$$\n",
    "\\lambda_j = -\\frac{4 D}{h_x^2} \\sin^2 ( j \\pi / 2n ), \\quad j=1,2, \\dots, n-1\n",
    "$$\n",
    "First we will derive this formula with Chebyshev Polynomial and Eigenfunction $ v_\\omega(t) = \\sin \\omega t$. Followed by the formunal will be verified with matrix $A$ wiht $n=5$"
   ]
  },
  {
   "cell_type": "markdown",
   "id": "346bd282",
   "metadata": {},
   "source": [
    "### Formula Derivation with Chebyshev Polynomial"
   ]
  },
  {
   "cell_type": "markdown",
   "id": "24f8256b",
   "metadata": {},
   "source": [
    "$$\n",
    "A = \\frac{D}{h_x^2} \n",
    "    \\begin{pmatrix} \n",
    "              -2 & 1 &  & & \\\\\n",
    "              1 & -2 & 1 &  & \\\\\n",
    "                & \\ddots & \\ddots & \\ddots & \\\\\n",
    "                &  & 1& -2  & 1 \\\\\n",
    "                & &  & 1 & -2 \n",
    "              \\end{pmatrix}  \\in \\mathbb{R}^{(n-1)\\times (n-1)}\n",
    "$$\n",
    "\n",
    "To find eigenvalues, we should solve $det(A- \\lambda I )=0$\n",
    "$$\n",
    "A- \\lambda I = \\frac{D}{h_x^2} \n",
    "    \\begin{pmatrix} \n",
    "              -2 & 1 &  & & \\\\\n",
    "              1 & -2 & 1 &  & \\\\\n",
    "                & \\ddots & \\ddots & \\ddots & \\\\\n",
    "                &  & 1& -2  & 1 \\\\\n",
    "                & &  & 1 & -2 \n",
    "              \\end{pmatrix} - \\begin{pmatrix} \n",
    "              \\lambda & 0 &  & & \\\\\n",
    "              0 & \\lambda & 0 &  & \\\\\n",
    "                & \\ddots & \\ddots & \\ddots & \\\\\n",
    "                &  & 0& \\lambda  & 0 \\\\\n",
    "                & &  & 0 & \\lambda \n",
    "              \\end{pmatrix}\n",
    "$$\n",
    "$$\n",
    "A- \\lambda I = \\frac{D}{h_x^2} \n",
    "    \\begin{pmatrix} \n",
    "              -2 & 1 &  & & \\\\\n",
    "              1 & -2 & 1 &  & \\\\\n",
    "                & \\ddots & \\ddots & \\ddots & \\\\\n",
    "                &  & 1& -2  & 1 \\\\\n",
    "                & &  & 1 & -2 \n",
    "              \\end{pmatrix} - \n",
    "              \\frac{D}{h_x^2}\n",
    "              \\begin{pmatrix} \n",
    "              \\lambda\\frac{h_x^2}{D} & 0 &  & & \\\\\n",
    "              0 & \\lambda\\frac{h_x^2}{D} & 0 &  & \\\\\n",
    "                & \\ddots & \\ddots & \\ddots & \\\\\n",
    "                &  & 0& \\lambda\\frac{h_x^2}{D}  & 0 \\\\\n",
    "                & &  & 0 & \\lambda\\frac{h_x^2}{D} \n",
    "              \\end{pmatrix}\n",
    "$$\n",
    "$$\n",
    "A- \\lambda I = \\frac{D}{h_x^2} \n",
    "    \\begin{pmatrix} \n",
    "              -2-\\lambda\\frac{h_x^2}{D} & 1 &  & & \\\\\n",
    "              1 & -2-\\lambda\\frac{h_x^2}{D} & 1 &  & \\\\\n",
    "                & \\ddots & \\ddots & \\ddots & \\\\\n",
    "                &  & 1& -2-\\lambda\\frac{h_x^2}{D}  & 1 \\\\\n",
    "                & &  & 1 & -2-\\lambda\\frac{h_x^2}{D} \n",
    "              \\end{pmatrix}\n",
    "$$"
   ]
  },
  {
   "cell_type": "markdown",
   "id": "f2f8f0e9",
   "metadata": {},
   "source": [
    "$A- \\lambda I$ is tridiagonal Matrix. \n",
    "\n",
    "Determinant of tridiagonal Matrix is : \n",
    "$$M = \\begin{pmatrix} \n",
    "              a & b &  & & \\\\\n",
    "              c & a & b &  & \\\\\n",
    "                & \\ddots & \\ddots & \\ddots & \\\\\n",
    "                &  & c& a  & b \\\\\n",
    "                & &  & c & a \n",
    "              \\end{pmatrix} \\in \\mathbb{R}^{(n)\\times (n)}$$\n",
    "If $D_{n}$ is determinant when dimension of $M$ is $n$, it can be expressed as a recursive equation.\n",
    "$$D_{n} = a \\cdot D_{n-1}-bc\\cdot D_{n-2}$$\n",
    "When $a$ and $b$ are $1$, \n",
    "$$D_{n} = a \\cdot D_{n-1}-D_{n-2}$$"
   ]
  },
  {
   "cell_type": "markdown",
   "id": "4e8fd1ef",
   "metadata": {},
   "source": [
    "The shape of this recursive is close to Chebyshev polynomial of the second kind. The recursive formula of 2.Chebyshev polynomial is $$U_{n}(x) = 2x \\cdot U_{n-1}(x)-U_{n-2}(x)$$\n",
    "If we rewrite as $$D_{n} = a \\cdot D_{n-1}-D_{n-2} = 2 \\frac{a}{2} \\cdot D_{n-1}-D_{n-2}$$\n",
    "the determinant can be expressed as $U_{n}(\\frac{a}{2})$"
   ]
  },
  {
   "cell_type": "markdown",
   "id": "1ceef8fa",
   "metadata": {},
   "source": [
    "The definition of 2.Chebyshev polynomial is \n",
    "$$ U_{n}(x) = \\frac{1}{n+1}T_{n+1}'(x) $$\n",
    "Here $T_{n}(x)$ is 1.Chebyshev polynomial and the definition is $$T_{n}(x)= cos(ncos^{-1}x)$$\n",
    "Therefore,\n",
    "$$ U_{n}(x) = \\frac{1}{n+1}(cos((n+1)cos^{-1}x))'$$\n",
    "$$ = \\frac{1}{n+1} sin((n+1)cos^{-1}x) (n+1)\\frac{1}{\\sqrt{1-x^{2}}}$$\n",
    "$$ = sin((n+1)cos^{-1}x)\\frac{1}{\\sqrt{1-x^{2}}}$$\n",
    "\n",
    "Let $cos^{-1}x = \\theta $, $cos\\theta=x$ and $sin\\theta=\\sqrt{1-x^{2}}$.\n",
    "$$ U_{n}(x) = \\frac{sin((n+1)\\theta)}{sin\\theta}$$\n",
    "$$ U_{n}(cos\\theta) = \\frac{sin((n+1)\\theta)}{sin\\theta}$$\n",
    "\n",
    "Roots of $ U_{n}(x) = 0$ are : \n",
    "$$ U_{n}(x) = U_{n}(cos\\theta) = \\frac{sin((n+1)\\theta)}{sin\\theta}=0$$\n",
    "$$ sin((n+1)\\theta) = 0 $$\n",
    "$$ (n+1)\\theta = j\\pi$$\n",
    "$$\\theta = \\frac{j\\pi}{n+1}  $$\n",
    "$$\\theta = cos^{-1}x = \\frac{j\\pi}{n+1}  $$\n",
    "$$ x = cos(\\frac{j\\pi}{n+1})  $$"
   ]
  },
  {
   "cell_type": "markdown",
   "id": "eb6062d5",
   "metadata": {},
   "source": [
    "Then for $A- \\lambda I_{n-1}$, $a= -2-\\lambda\\frac{h_x^2}{D}$,\n",
    "$$ det(A- \\lambda I_{n-1}) = \\frac{D}{h_x^2} U_{n-1}(\\frac{a}{2})$$\n",
    "$$= \\frac{D}{h_x^2} U_{n}(\\frac{ -2-\\lambda\\frac{h_x^2}{D}}{2}) = -\\frac{D}{h_x^2} U_{n}(\\frac{ 2+\\lambda\\frac{h_x^2}{D}}{2}) $$\n",
    "Since $j = 1,2,...,n-1$\n",
    "$$ \\frac{ 2+\\lambda\\frac{h_x^2}{D}}{2} = cos(\\frac{j\\pi}{(n-1)+1}) $$\n",
    "$$ 2+\\lambda\\frac{h_x^2}{D} = 2cos(\\frac{j\\pi}{n})$$\n",
    "$$ \\lambda\\frac{h_x^2}{D} = 2cos(\\frac{j\\pi}{n}) - 2$$\n",
    "$$ \\lambda = 2(cos(\\frac{j\\pi}{n}) - 1) \\cdot \\frac{D}{h_x^2} $$\n",
    "$$ \\lambda = 2(cos(2\\cot \\frac{j\\pi}{2n}) - 1) \\cdot \\frac{D}{h_x^2} $$\n",
    "Using double angle formula,\n",
    "$$ \\lambda = 2(1-2sin^{2}(\\frac{j\\pi}{2n}) - 1) \\cdot \\frac{D}{h_x^2} $$\n",
    "$$ \\lambda = 2(-2sin^{2}(\\frac{j\\pi}{2n})) \\cdot \\frac{D}{h_x^2} $$\n",
    "Therefore for $j = 1,2,...,n-1$\n",
    "$$ \\lambda_j = \\frac{-4D}{h_x^2} sin^{2}(\\frac{j\\pi}{2n}) $$"
   ]
  },
  {
   "cell_type": "markdown",
   "id": "701380ef",
   "metadata": {},
   "source": [
    "### Formula Derivation with Eigenfunction $ v_\\omega(t) = \\sin \\omega t$ "
   ]
  },
  {
   "cell_type": "markdown",
   "id": "caa77e9c",
   "metadata": {},
   "source": [
    "$$ Av = \\lambda v$$\n",
    "$$ A \\begin{pmatrix} sin(\\frac{j\\pi}{n}) \n",
    "\\\\ sin(2\\frac{j\\pi}{n}) \\\\ \\vdots \n",
    "\\\\ sin((n-2) \\frac{j\\pi}{n}) \\\\ sin((n-1)\\frac{j\\pi}{n}) \\end{pmatrix} = \\lambda_{j} \\begin{pmatrix} sin( \\frac{j\\pi}{n}) \n",
    "\\\\ sin(2\\frac{j\\pi}{n}) \\\\ \\vdots \n",
    "\\\\ sin((n-2) \\frac{j\\pi}{n}) \\\\ sin((n-1) \\frac{j\\pi}{n}) \\end{pmatrix}, j = 1,2,..., n-1$$\n",
    "\n",
    "$$\n",
    "\\frac{D}{h_x^2} \n",
    "    \\begin{pmatrix} \n",
    "              -2 & 1 &  & & \\\\\n",
    "              1 & -2 & 1 &  & \\\\\n",
    "                & \\ddots & \\ddots & \\ddots & \\\\\n",
    "                &  & 1& -2  & 1 \\\\\n",
    "                & &  & 1 & -2 \n",
    "              \\end{pmatrix} \n",
    "\\begin{pmatrix} sin(\\frac{j\\pi}{n}) \n",
    "\\\\ sin(2\\frac{j\\pi}{n}) \\\\ \\vdots \n",
    "\\\\ sin((n-2) \\frac{j\\pi}{n}) \\\\ sin((n-1)\\frac{j\\pi}{n}) \\end{pmatrix} = \\lambda_{j} \\begin{pmatrix} sin( \\frac{j\\pi}{n}) \n",
    "\\\\ sin(2\\frac{j\\pi}{n}) \\\\ \\vdots \n",
    "\\\\ sin((n-2) \\frac{j\\pi}{n}) \\\\ sin((n-1) \\frac{j\\pi}{n}) \\end{pmatrix}$$\n",
    "\n",
    "If we see $\\omega$.th row,\n",
    "$$ \\frac{D}{h_x^2} ( 1\\cdot sin((\\omega-1) \\frac{j\\pi}{n})\n",
    "-2\\cdot  sin(\\omega \\frac{j\\pi}{n}) \n",
    "+ 1\\cdot sin((\\omega+1) \\frac{j\\pi}{n})) \n",
    "= \\lambda_{j} sin(\\omega \\frac{j\\pi}{n})$$\n",
    "\n",
    "Expanding the sum of angles : \n",
    "$$ \\frac{D}{h_x^2} \n",
    "(sin(\\omega\\frac{j\\pi}{n})cos(\\frac{j\\pi}{n})-cos(\\omega\\frac{j\\pi}{n})sin(\\frac{j\\pi}{n})\n",
    "-2sin(\\omega \\frac{j\\pi}{n}) \n",
    "+ (sin(\\omega\\frac{j\\pi}{n})cos(\\frac{j\\pi}{n})+cos(\\omega\\frac{j\\pi}{n})sin(\\frac{j\\pi}{n})\n",
    "= \\lambda_{j} sin(\\omega \\frac{j\\pi}{n})$$\n",
    "\n",
    "Since $cos(\\omega\\frac{j\\pi}{n})sin(\\frac{j\\pi}{n})$ is deleted,\n",
    "$$ \\frac{D}{h_x^2} \n",
    "(sin(\\omega\\frac{j\\pi}{n})cos(\\frac{j\\pi}{n})\n",
    "-2sin(\\omega \\frac{j\\pi}{n}) \n",
    "+ sin(\\omega\\frac{j\\pi}{n})cos(\\frac{j\\pi}{n}) )\n",
    "= \\lambda_{j} sin(\\omega \\frac{j\\pi}{n})$$\n",
    "\n",
    "$$ \\frac{D}{h_x^2} sin(\\omega\\frac{j\\pi}{n}) (\n",
    "2cos(\\frac{j\\pi}{n})-2 )\n",
    "= \\lambda sin(\\omega \\frac{j\\pi}{n})$$\n",
    "\n",
    "$$ 2\\frac{D}{h_x^2}(cos(\\frac{j\\pi}{n})-1 ) = \\lambda_{j} $$\n",
    "$$ \\lambda_{j} = \\frac{2D}{h_x^2}(cos(2\\cot \\frac{j\\pi}{2n}) - 1) $$\n",
    "Using double angle formula,\n",
    "$$ \\lambda_{j} =  \\frac{2D}{h_x^2}(1-2sin^{2}(\\frac{j\\pi}{2n}) - 1) $$\n",
    "$$ \\lambda_{j} = \\frac{2D}{h_x^2}(-2sin^{2}(\\frac{j\\pi}{2n})) $$\n",
    "Therefore for $j = 1,2,...,n-1$\n",
    "$$ \\lambda_{j} = \\frac{-4D}{h_x^2} sin^{2}(\\frac{j\\pi}{2n}) $$"
   ]
  },
  {
   "cell_type": "markdown",
   "id": "45cad180",
   "metadata": {},
   "source": [
    "### Verifying Analytical value of Eigenvalues"
   ]
  },
  {
   "cell_type": "markdown",
   "id": "02d8ae73",
   "metadata": {},
   "source": [
    "For simple verifying, we will set the value $n = 5$. To compare the eigenvector calculated analytically, we changed $v_{4}$ of eigenvector $v$ to $1$. Firts code is finding eigenvalues and eigenvectors using inner function \"np.linalg.eig\". Second code is finding eigenvalues with formula. To find eigenvector from them, we need the function for gaus elimination."
   ]
  },
  {
   "cell_type": "code",
   "execution_count": null,
   "id": "42151b95",
   "metadata": {},
   "outputs": [],
   "source": [
    "def gaussElimin(a):\n",
    "    n = len(a)\n",
    "    for k in range(0, n-1):\n",
    "        for i in range(k+1, n):\n",
    "            if a[i, k] != 0.0:\n",
    "                lam = a[i, k] / a[k, k]\n",
    "                a[i, k:n] = a[i, k:n] - lam*a[k, k:n]\n",
    "    return a"
   ]
  },
  {
   "cell_type": "code",
   "execution_count": null,
   "id": "92ec32f3",
   "metadata": {
    "scrolled": false
   },
   "outputs": [],
   "source": [
    "# np.linalg.eig\n",
    "n=5\n",
    "h = L/n\n",
    "m = n-1\n",
    "A  = stiffness(m, D, h)  \n",
    "eigenvalues, eigenvectors = eig(A)\n",
    "\n",
    "# v4 to 1\n",
    "eigenvectors = eigenvectors/[eigenvectors[3][0],eigenvectors[3][1],eigenvectors[3][2],eigenvectors[3][3]]\n",
    "\n",
    "eigenDic = {}\n",
    "for k in range(4):\n",
    "    eigenvalue = eigenvalues[k]\n",
    "    eigenvector = np.array([eigenvectors[0][k], eigenvectors[1][k],\n",
    "                               eigenvectors[2][k], eigenvectors[3][k]])\n",
    "    eigenDic[eigenvalue] = eigenvector\n",
    "    print( k+1, \".eigenvalue is \", eigenvalue)\n",
    "    print(\"its corresponding eigenvector is \", eigenvector, \"\\n\")"
   ]
  },
  {
   "cell_type": "code",
   "execution_count": null,
   "id": "b4151547",
   "metadata": {},
   "outputs": [],
   "source": [
    "# with formula\n",
    "eigen_anaDic = {}\n",
    "for j in range(1,n):\n",
    "    eigenvalue = -4*D/h/h * (np.sin(j*np.pi/(2*n)))**2\n",
    "    I = np.identity(n-1)\n",
    "    M = A-eigenvalue*I\n",
    "    a = gaussElimin(M)\n",
    "    x4 = 1\n",
    "    x3 = -x4*a[2][3]/a[2][2]\n",
    "    x2 = -x3*a[1][2]/a[1][1]\n",
    "    x1 = -x2*a[0][1]/a[0][0]\n",
    "    eigenvector = np.array([x1,x2,x3,x4])\n",
    "    \n",
    "    eigen_anaDic[eigenvalue] = eigenvector\n",
    "    print( j, \".eigenvalue by formula is \", eigenvalue)\n",
    "    print(\"its corresponding eigenvector is \", eigenvector, \"\\n\")"
   ]
  },
  {
   "cell_type": "markdown",
   "id": "bbdef38f",
   "metadata": {},
   "source": [
    "If we compare the first result by inner function  \"np.linalg.eig\" and the second result solved analytically, we can verify that their result is identical."
   ]
  },
  {
   "cell_type": "markdown",
   "id": "7de6b396",
   "metadata": {},
   "source": [
    "# 2. Implementation and test with explicit and implicit euler methods"
   ]
  },
  {
   "cell_type": "markdown",
   "id": "4134517d",
   "metadata": {},
   "source": [
    "We are going to use explicit and implicit euler methods for the tests."
   ]
  },
  {
   "cell_type": "markdown",
   "id": "010e2bc4",
   "metadata": {},
   "source": [
    "## 2.1. Case 1: $g_1(t) = g_2(t) = 0$ and $q(x,1) = 1$"
   ]
  },
  {
   "cell_type": "code",
   "execution_count": null,
   "id": "402e3b98",
   "metadata": {},
   "outputs": [],
   "source": [
    "def tridiag(a, b, c, k1=-1, k2=0, k3=1):\n",
    "    return np.diag(a, k1) + np.diag(b, k2) + np.diag(c, k3)"
   ]
  },
  {
   "cell_type": "markdown",
   "id": "7f0301c1",
   "metadata": {},
   "source": [
    "### Implicit Method"
   ]
  },
  {
   "cell_type": "code",
   "execution_count": null,
   "id": "af3cc93a",
   "metadata": {},
   "outputs": [],
   "source": [
    "import numpy as np\n",
    "import odesolver as ode\n",
    "import matplotlib.pyplot as plt\n",
    "from matplotlib import cm   # colormaps\n",
    "#%matplotlib widget\n",
    "\n",
    "n = 20\n",
    "D = 1\n",
    "L = 1\n",
    "\n",
    "#A\n",
    "diagonal = -2*np.ones(n-1)\n",
    "over = np.ones(n-2)\n",
    "matrix = tridiag(over, diagonal, over)\n",
    "hx = L/n\n",
    "A = (D/hx**2)*matrix\n",
    "\n",
    "#for the case of Quelle q(x, 1) = 1 and g_1(t) = g_2(t) = 0\n",
    "#b\n",
    "def g1(t):\n",
    "    return 0\n",
    "\n",
    "def g2(t):\n",
    "    return 0\n",
    "\n",
    "# first part of b\n",
    "def q(j, t): # Quelle = 1\n",
    "    return 1\n",
    "\n",
    "def b(t):\n",
    "    b_1 = np.zeros(n-1)\n",
    "    \n",
    "    for i in range (n-1):\n",
    "        b_1[i] = q(i+1, t)\n",
    "\n",
    "    # second part of b(vector)    \n",
    "    b_2 = np.zeros(n-1)\n",
    "    b_2[0] = g1(t)\n",
    "    b_2[-1] = g2(t)\n",
    "    \n",
    "    return b_1 + (D/hx**2)*b_2\n",
    "\n",
    "#f\n",
    "def f(t, y): # y means u here\n",
    "    return np.matmul(A,y) + b(t)\n",
    "\n",
    "def f_jac(t, y):\n",
    "    return A\n",
    "\n",
    "\n",
    "# Anfangsbedingung\n",
    "u0 = np.zeros(n-1) # from u_1 to u_(n-1)\n",
    "t0 = 0\n",
    "tf = 0.8\n",
    "t_span = (t0, tf)       # Zeitintervall als Tupel\n",
    "\n",
    "N  = 400   # Azahl Zeitschritte\n",
    "tk = np.linspace(t0, tf, N+1)\n",
    "\n",
    "xj = np.linspace(0, L, n+1)\n",
    "y_all_im = np.zeros( (n+1, N+1) )  # erster Index Ort, zweiter Index Zeit\n",
    "\n",
    "solution_im = ode.euler_backward(f, t_span, u0, tk, f_jac)\n",
    "u_k_im = solution_im.y # from u_1 to u_(n-1)\n",
    "\n",
    "# add the 'Randpunkte'\n",
    "y_all_im[0, :] = g1(tk)\n",
    "y_all_im[-1, :] = g2(tk)\n",
    "\n",
    "# add the points, which are produced by the implicit euler method \n",
    "for k in range(1,n):\n",
    "    \n",
    "    y_all_im[k, :] = u_k_im[k-1, :]\n",
    "\n",
    "TK, XJ = np.meshgrid(tk, xj)    # erzeugt Matrizen derselben Dimension wir y_all\n",
    "\n",
    "\n",
    "fig = plt.figure(figsize=(6,6))\n",
    "ax = plt.axes(projection='3d')\n",
    "ax.plot_wireframe(TK, XJ, y_all_im)\n",
    "ax.set_xlabel('t')\n",
    "ax.set_ylabel('x')\n",
    "ax.set_zlabel('u')"
   ]
  },
  {
   "cell_type": "markdown",
   "id": "5474eccf",
   "metadata": {},
   "source": [
    "### Explicit Method"
   ]
  },
  {
   "cell_type": "code",
   "execution_count": null,
   "id": "1a81ad7e",
   "metadata": {},
   "outputs": [],
   "source": [
    "y_all_ex = np.zeros( (n+1, N+1) )  # erster Index Ort, zweiter Index Zeit\n",
    "\n",
    "solution_ex = ode.euler_forward(f, t_span, u0, tk)\n",
    "u_k_ex = solution_ex.y # from u_1 to u_(n-1)\n",
    "\n",
    "# add the 'Randpunkte'\n",
    "y_all_im[0, :] = g1(tk)\n",
    "y_all_im[-1, :] = g2(tk)\n",
    "\n",
    "# add the points, which are produced by the explicit euler method\n",
    "for k in range(1,n):\n",
    "    \n",
    "    y_all_ex[k, :] = u_k_ex[k-1, :]\n",
    "\n",
    "TK, XJ = np.meshgrid(tk, xj)    # erzeugt Matrizen derselben Dimension wir y_all\n",
    "\n",
    "fig = plt.figure(figsize=(6,6))\n",
    "ax = plt.axes(projection='3d')\n",
    "ax.plot_wireframe(TK, XJ, y_all_ex)\n",
    "ax.set_xlabel('t')\n",
    "ax.set_ylabel('x')\n",
    "ax.set_zlabel('u')"
   ]
  },
  {
   "cell_type": "markdown",
   "id": "ff603a9c",
   "metadata": {},
   "source": [
    "### Compare the results between using the implicit euler method and the explicit euler method"
   ]
  },
  {
   "cell_type": "markdown",
   "id": "a56b4543",
   "metadata": {},
   "source": [
    "Let's see the result with implicit euler method. The form of the graph in terms of x(t is fixed) is the form of quadratic function with the negative sign of the coeffcient of $x^2$. But when we see the result with explicit euler method, the values are going up and down dramatically after a cetain time and there is no form of quadratic function. This is because it is a stiff problem and the method of explicit euler method is not stable. On the other hand, the implicit euler method is stable, so that we could get a good result."
   ]
  },
  {
   "cell_type": "markdown",
   "id": "0bba5967",
   "metadata": {},
   "source": [
    "### Why the form of quadratic function?"
   ]
  },
  {
   "cell_type": "markdown",
   "id": "84ed958c",
   "metadata": {},
   "source": [
    "We can see the datails at the end of 2.2."
   ]
  },
  {
   "cell_type": "markdown",
   "id": "4a8b08af",
   "metadata": {},
   "source": [
    "### Visualization of the result with Implicit euler method as Film "
   ]
  },
  {
   "cell_type": "code",
   "execution_count": null,
   "id": "02432f5e",
   "metadata": {},
   "outputs": [],
   "source": [
    "from matplotlib import animation, rc\n",
    "from IPython.display import HTML\n",
    "\n",
    "#%matplotlib qt\n",
    "# First set up the figure, the axis, and the plot element we want to animate\n",
    "fig, ax = plt.subplots()\n",
    "\n",
    "ymax = np.max(y_all_im)\n",
    "ymin = np.min(y_all_im)\n",
    "ax.set_xlim(( 0, L))\n",
    "ax.set_ylim((ymin, ymax))\n",
    "\n",
    "line, = ax.plot([], [], lw=2)\n",
    "\n",
    "# initialization function: plot the background of each frame\n",
    "def init():\n",
    "    line.set_data([], [])\n",
    "    return (line,)\n",
    "\n",
    "# animation function. This is called sequentially\n",
    "def animate(i):\n",
    "    y = y_all_im[:,i]\n",
    "    line.set_data(xj, y)\n",
    "    return (line,)\n",
    "\n",
    "\n",
    "# call the animator. blit=True means only re-draw the parts that have changed.\n",
    "anim = animation.FuncAnimation(fig, animate, init_func=init,\n",
    "                               frames=len(tk), interval=50, blit=True) # intervall in milli seconds\n",
    "\n",
    "display(HTML(anim.to_jshtml()))\n",
    "plt.show()\n",
    "\n",
    "#HTML(anim.to_html5_video())"
   ]
  },
  {
   "cell_type": "code",
   "execution_count": null,
   "id": "05ca3efe",
   "metadata": {},
   "outputs": [],
   "source": []
  },
  {
   "cell_type": "markdown",
   "id": "be2707ec",
   "metadata": {},
   "source": [
    "## 2.2. Test with 'Ortsabhängige Anfangsbedingung'"
   ]
  },
  {
   "cell_type": "markdown",
   "id": "ba9b1ee4",
   "metadata": {},
   "source": [
    "We are going to see what happen when $u_k(0)=0.06$ instead of $u_k(0)=0.00$ (k is from 1 to n-1). The other conditions are as same as the Case 1."
   ]
  },
  {
   "cell_type": "markdown",
   "id": "ed7fe391",
   "metadata": {},
   "source": [
    "### Visualization as Surface"
   ]
  },
  {
   "cell_type": "code",
   "execution_count": null,
   "id": "a6e99c2f",
   "metadata": {
    "scrolled": true
   },
   "outputs": [],
   "source": [
    "# Anfangsbedingung\n",
    "u0 = 0.06*np.ones(n-1) # from u_1 to u_(n-1)\n",
    "\n",
    "solution_im = ode.euler_backward(f, t_span, u0, tk, f_jac)\n",
    "u_k_im = solution_im.y # from u_1 to u_(n-1)\n",
    "\n",
    "y_all_im = np.zeros( (n+1, N+1) )  # erster Index Ort, zweiter Index Zeit\n",
    "\n",
    "# add the 'Randpunkte'\n",
    "y_all_im[0, :] = g1(tk)\n",
    "y_all_im[-1, :] = g2(tk)\n",
    "\n",
    "# add the points, which are produced by the implicit euler method \n",
    "for k in range(1,n):\n",
    "    \n",
    "    y_all_im[k, :] = u_k_im[k-1, :]\n",
    "\n",
    "TK, XJ = np.meshgrid(tk, xj)    # erzeugt Matrizen derselben Dimension wir y_all\n",
    "\n",
    "\n",
    "fig = plt.figure(figsize=(6,6))\n",
    "ax = plt.axes(projection='3d')\n",
    "ax.plot_wireframe(TK, XJ, y_all_im)\n",
    "ax.set_xlabel('t')\n",
    "ax.set_ylabel('x')\n",
    "ax.set_zlabel('u')\n"
   ]
  },
  {
   "cell_type": "markdown",
   "id": "e0abb89c",
   "metadata": {},
   "source": [
    "### Visualization as Film"
   ]
  },
  {
   "cell_type": "code",
   "execution_count": null,
   "id": "e199df9d",
   "metadata": {},
   "outputs": [],
   "source": [
    "from matplotlib import animation, rc\n",
    "from IPython.display import HTML\n",
    "\n",
    "#%matplotlib qt\n",
    "# First set up the figure, the axis, and the plot element we want to animate\n",
    "fig, ax = plt.subplots()\n",
    "\n",
    "ymax = np.max(y_all_im)\n",
    "ymin = np.min(y_all_im)\n",
    "ax.set_xlim(( 0, L))\n",
    "ax.set_ylim((ymin, ymax))\n",
    "\n",
    "line, = ax.plot([], [], lw=2)\n",
    "\n",
    "# initialization function: plot the background of each frame\n",
    "def init():\n",
    "    line.set_data([], [])\n",
    "    return (line,)\n",
    "\n",
    "# animation function. This is called sequentially\n",
    "def animate(i):\n",
    "    y = y_all_im[:,i]\n",
    "    line.set_data(xj, y)\n",
    "    return (line,)\n",
    "\n",
    "\n",
    "# call the animator. blit=True means only re-draw the parts that have changed.\n",
    "anim = animation.FuncAnimation(fig, animate, init_func=init,\n",
    "                               frames=len(tk), interval=50, blit=True) # intervall in milli seconds\n",
    "\n",
    "display(HTML(anim.to_jshtml()))\n",
    "plt.show()\n",
    "\n",
    "#HTML(anim.to_html5_video())"
   ]
  },
  {
   "cell_type": "markdown",
   "id": "6fd294be",
   "metadata": {},
   "source": [
    "When t is big enough, the graph of $u_k(0)=0.06$ is as same as the graph of $u_k(0)=0.00$(Here k is from 1 to n-1). The reason is as follows:\n",
    "\n",
    "When $g_1(t) = g_2(t) = 0$, we can write the AWP like this\n",
    "\n",
    "$$\n",
    "\t \\partial_{t}u = \\partial_{xx}u + q.\n",
    "$$\n",
    "\n",
    "When q is 1 and t is big enough we can write it as\n",
    "\n",
    "$$\n",
    "0 = u^{\\prime\\prime}(x) + 1, \\quad u(0) = u(L=1) = 0.\n",
    "$$\n",
    "\n",
    "Then\n",
    "$$\n",
    "u(x) = \\frac{1}{2}x^2 + C_1x + C_2, \\quad u(0) = u(L=1) = 0.\n",
    "$$\n",
    "\n",
    "Finally\n",
    "$$\n",
    "u(x) = \\frac{1}{2}x(x-L), \\quad L=1\n",
    "$$\n",
    "\n",
    "We can see that the same u(x) is calculated when we use the same 'Randbedingungen($g_1(t) = g_2(t) = 0$)'. That is why these two graphes are same when t is big enough."
   ]
  },
  {
   "cell_type": "markdown",
   "id": "b57f2d3d",
   "metadata": {},
   "source": [
    "## 2.3. Orts- und zeitabhängige Quelle"
   ]
  },
  {
   "cell_type": "markdown",
   "id": "c16003d2",
   "metadata": {},
   "source": [
    "We are going to change the defintion of the function q(j, t) for the test of 'Orts- und zeitabhängige Quelle'. Other conditions are as same as our Case 1(2.1)."
   ]
  },
  {
   "cell_type": "markdown",
   "id": "fc608aa1",
   "metadata": {},
   "source": [
    "### Visualization as Surface"
   ]
  },
  {
   "cell_type": "code",
   "execution_count": null,
   "id": "817930cf",
   "metadata": {},
   "outputs": [],
   "source": [
    "# Anfangsbedingungen\n",
    "u0 = np.zeros(n-1) # from u_1 to u_(n-1)\n",
    "\n",
    "y_all_im = np.zeros( (n+1, N+1) )  # erster Index Ort, zweiter Index Zeit\n",
    "\n",
    "def q(j, t): # Quelle\n",
    "    return xj[j] + t\n",
    "  \n",
    "def b(t):\n",
    "    b_1 = np.zeros(n-1)\n",
    "    \n",
    "    for i in range (n-1):\n",
    "        b_1[i] = q(i+1, t)\n",
    "\n",
    "    b_2 = np.zeros(n-1)\n",
    "    b_2[0] = g1(t)\n",
    "    b_2[-1] = g2(t)\n",
    "    \n",
    "    return b_1 + (D/hx**2)*b_2\n",
    "\n",
    "def f(t, y): # y means u here\n",
    "    return np.matmul(A,y) + b(t)\n",
    "\n",
    "solution_im = ode.euler_backward(f, t_span, u0, tk, f_jac)\n",
    "u_k_im = solution_im.y # from u_1 to u_(n-1)\n",
    "\n",
    "# add the 'Randpunkte'\n",
    "y_all_im[0, :] = g1(tk)\n",
    "y_all_im[-1, :] = g2(tk)\n",
    "\n",
    "# add the points, which are produced by the implicit euler method \n",
    "for k in range(1,n):\n",
    "    \n",
    "    y_all_im[k, :] = u_k_im[k-1, :]\n",
    "\n",
    "TK, XJ = np.meshgrid(tk, xj)    # erzeugt Matrizen derselben Dimension wir y_all\n",
    "\n",
    "\n",
    "fig = plt.figure(figsize=(6,6))\n",
    "ax = plt.axes(projection='3d')\n",
    "ax.plot_wireframe(TK, XJ, y_all_im)\n",
    "ax.set_xlabel('t')\n",
    "ax.set_ylabel('x')\n",
    "ax.set_zlabel('u')"
   ]
  },
  {
   "cell_type": "markdown",
   "id": "f2d1454a",
   "metadata": {},
   "source": [
    "### Visualization as Film"
   ]
  },
  {
   "cell_type": "code",
   "execution_count": null,
   "id": "65d505ee",
   "metadata": {},
   "outputs": [],
   "source": [
    "from matplotlib import animation, rc\n",
    "from IPython.display import HTML\n",
    "\n",
    "#%matplotlib qt\n",
    "# First set up the figure, the axis, and the plot element we want to animate\n",
    "fig, ax = plt.subplots()\n",
    "\n",
    "ymax = np.max(y_all_im)\n",
    "ymin = np.min(y_all_im)\n",
    "ax.set_xlim(( 0, L))\n",
    "ax.set_ylim((ymin, ymax))\n",
    "\n",
    "line, = ax.plot([], [], lw=2)\n",
    "\n",
    "# initialization function: plot the background of each frame\n",
    "def init():\n",
    "    line.set_data([], [])\n",
    "    return (line,)\n",
    "\n",
    "# animation function. This is called sequentially\n",
    "def animate(i):\n",
    "    y = y_all_im[:,i]\n",
    "    line.set_data(xj, y)\n",
    "    return (line,)\n",
    "\n",
    "\n",
    "# call the animator. blit=True means only re-draw the parts that have changed.\n",
    "anim = animation.FuncAnimation(fig, animate, init_func=init,\n",
    "                               frames=len(tk), interval=50, blit=True) # intervall in milli seconds\n",
    "\n",
    "display(HTML(anim.to_jshtml()))\n",
    "plt.show()\n",
    "\n",
    "#HTML(anim.to_html5_video())"
   ]
  },
  {
   "cell_type": "markdown",
   "id": "b98d2b40",
   "metadata": {},
   "source": [
    "We can find out that the slopes change slower than the case 1, becasuse we have different 'Quelle' from the case 1(q = 1). It lead to the different shape of graph."
   ]
  },
  {
   "cell_type": "markdown",
   "id": "69a66b42",
   "metadata": {},
   "source": [
    "## 2.4. Test with 'Zeitabhängige Dirichlet-Randbedingungen'"
   ]
  },
  {
   "cell_type": "markdown",
   "id": "bd8a7f14",
   "metadata": {},
   "source": [
    "We are going to change the defintions of $g_1(t)$ and $g_2(t)$ for the test of 'Zeitabhängige Dirichlet-Randbedingungen'. Other conditions are as same as our Case 1(2.1)."
   ]
  },
  {
   "cell_type": "markdown",
   "id": "9bfb198c",
   "metadata": {},
   "source": [
    "### Visualization as Surface"
   ]
  },
  {
   "cell_type": "code",
   "execution_count": null,
   "id": "4f865aa3",
   "metadata": {},
   "outputs": [],
   "source": [
    "# Anfangsbedingungen\n",
    "u0 = np.zeros(n-1) # from u_1 to u_(n-1)\n",
    "\n",
    "def g1(t):\n",
    "    return 10*(1+np.sin(t))\n",
    "\n",
    "def g2(t):\n",
    "    return 10\n",
    "\n",
    "# first part of b\n",
    "def q(j, t): # Quelle q = 1 as our Case 1\n",
    "    return 1\n",
    "  \n",
    "def b(t):\n",
    "    b_1 = np.zeros(n-1)\n",
    "    \n",
    "    for i in range (n-1):\n",
    "        b_1[i] = q(i+1, t)\n",
    "\n",
    "    b_2 = np.zeros(n-1)\n",
    "    b_2[0] = g1(t)\n",
    "    b_2[-1] = g2(t)\n",
    "    \n",
    "    return b_1 + (D/hx**2)*b_2\n",
    "\n",
    "def f(t, y): # y means u here\n",
    "    return np.matmul(A,y) + b(t)\n",
    "\n",
    "solution_im = ode.euler_backward(f, t_span, u0, tk, f_jac)\n",
    "u_k_im = solution_im.y # from u_1 to u_(n-1)\n",
    "\n",
    "y_all_im = np.zeros( (n+1, N+1) )  # erster Index Ort, zweiter Index Zeit\n",
    "\n",
    "# add the 'Randpunkte'\n",
    "y_all_im[0, :] = g1(tk)\n",
    "y_all_im[-1, :] = g2(tk)\n",
    "\n",
    "\n",
    "# add the points, which are produced by the implicit euler method \n",
    "for k in range(1,n):\n",
    "    \n",
    "    y_all_im[k, :] = u_k_im[k-1, :]\n",
    "\n",
    "TK, XJ = np.meshgrid(tk, xj)    # erzeugt Matrizen derselben Dimension wir y_all\n",
    "\n",
    "\n",
    "fig = plt.figure(figsize=(6,6))\n",
    "ax = plt.axes(projection='3d')\n",
    "ax.plot_wireframe(TK, XJ, y_all_im)\n",
    "ax.set_xlabel('t')\n",
    "ax.set_ylabel('x')\n",
    "ax.set_zlabel('u')"
   ]
  },
  {
   "cell_type": "markdown",
   "id": "c9400abe",
   "metadata": {},
   "source": [
    "### Visualization as Film"
   ]
  },
  {
   "cell_type": "code",
   "execution_count": null,
   "id": "92bfcfad",
   "metadata": {},
   "outputs": [],
   "source": [
    "from matplotlib import animation, rc\n",
    "from IPython.display import HTML\n",
    "\n",
    "#%matplotlib qt\n",
    "# First set up the figure, the axis, and the plot element we want to animate\n",
    "fig, ax = plt.subplots()\n",
    "\n",
    "ymax = np.max(y_all_im)\n",
    "ymin = np.min(y_all_im)\n",
    "ax.set_xlim(( 0, L))\n",
    "ax.set_ylim((ymin, ymax))\n",
    "\n",
    "line, = ax.plot([], [], lw=2)\n",
    "\n",
    "# initialization function: plot the background of each frame\n",
    "def init():\n",
    "    line.set_data([], [])\n",
    "    return (line,)\n",
    "\n",
    "# animation function. This is called sequentially\n",
    "def animate(i):\n",
    "    y = y_all_im[:,i]\n",
    "    line.set_data(xj, y)\n",
    "    return (line,)\n",
    "\n",
    "\n",
    "# call the animator. blit=True means only re-draw the parts that have changed.\n",
    "anim = animation.FuncAnimation(fig, animate, init_func=init,\n",
    "                               frames=len(tk), interval=50, blit=True) # intervall in milli seconds\n",
    "\n",
    "display(HTML(anim.to_jshtml()))\n",
    "plt.show()\n",
    "\n",
    "#HTML(anim.to_html5_video())"
   ]
  },
  {
   "cell_type": "markdown",
   "id": "9f14378e",
   "metadata": {},
   "source": [
    "When we compare this result with the result of Case 1(2.1), the graphs are very different. We can see the values of $u_0(t)$ is getting bigger from 10 to $10(1+sin(0.8))$ and the values of $u_n(t)$ is always 10."
   ]
  },
  {
   "cell_type": "markdown",
   "id": "6b84ae1c",
   "metadata": {},
   "source": [
    "# 3. Konvektionsdiffusionsgleichung"
   ]
  },
  {
   "cell_type": "markdown",
   "id": "b34fc329",
   "metadata": {},
   "source": [
    "## 3.1.Derivation of Matrixnotation"
   ]
  },
  {
   "cell_type": "markdown",
   "id": "c7fd24ce",
   "metadata": {},
   "source": [
    "First we have learned the Kontinuitätsgleichung\n",
    "$$\\partial_t u(x,t)  =  - \\partial_x j(x,t) + q(x, t)$$\n",
    "\n",
    "Depending on system, $j$ and $q$ can be decided.\n",
    "\n",
    "For the Konstitutive Gleichung such as Diffusionsgleichung, \n",
    "$$ j (x,t) = j_\\mathrm{diff} (x,t) = - D \\partial_x u(x,t)  $$\n",
    "\n",
    "For the Konvektionsdiffusionsgleichung, \n",
    "$$ j (x,t) = j_\\mathrm{diff} (x,t) + j_\\mathrm{konv} (x,t) $$\n",
    "$$ j_\\mathrm{konv} (x,t) = v u(x,t) \\qquad  $$\n",
    ", where $v$ is velocity field.\n",
    "\n",
    "Therefore,\n",
    "$$ j (x,t) = - D \\partial_x u(x,t) + v u(x,t) $$ \n",
    "\n",
    "If we substitute $ j (x,t) $ to the Kontinuitätsgleichung,\n",
    "$$\\partial_t u(x,t)  =  - \\partial_x (- D \\partial_x u(x,t) + v u(x,t)) + q(x, t)$$\n",
    "$$  =  D \\partial_{xx} u(x,t) - \\partial_x v u(x,t) + q(x, t)$$\n",
    "\n",
    "\n",
    "Aus Finite Differenzen Methode,\n",
    "$$\t \\partial_{xx}u(x_j, t)  \\approx   \\frac{ u(x_{j+1}, t) - 2u(x_j, t) + u(x_{j-1}, t) }{h_x^2} $$\n",
    "\n",
    "Aus Zentralen Differenzenquotienten\n",
    "$$\t \\partial_{x}u(x_j, t)  \\approx   \\frac{ u(x_{j+1}, t) -  u(x_{j-1}, t) }{2h_x} $$\n",
    "\n",
    "If we substitute $\\partial_{xx}u(x_j, t)$ und $\\partial_{x}u(x_j, t)$ to the equation of $\\partial_t u(x,t)$ above,\n",
    "$$\\partial_t u(x_j,t)  =  D \\frac{ u(x_{j+1}, t) - 2u(x_j, t) + u(x_{j-1}, t) }{h_x^2} \n",
    "                        - v \\frac{ u(x_{j+1}, t) -  u(x_{j-1}, t) }{2h_x} + q(x_j, t)$$\n",
    "$$ = \\frac{D}{h_x^2}u_{j+1}-2\\frac{D}{h_x^2}u_{j}+ \\frac{D}{h_x^2}u_{j-1}  - \\frac{v}{2h_x}u_{j+1} + \\frac{v}{2h_x}u_{j-1} + q_j$$\n",
    "\n",
    "$$ = u_{j-1}( \\frac{D}{h_x^2} +  \\frac{v}{2h_x}) - \\frac{2D}{h_x^2}u_{j} + u_{j+1} (\\frac{D}{h_x^2} - \\frac{v}{2h_x} ) + q_j$$\n",
    "\n",
    "Therefore the differential equation of the Konvektionsdiffusionsgleichung is :\n",
    "$$\\partial_t u(x_j,t)  = \\frac{1}{2h_x^2} \n",
    "\\left [ u_{j-1}(2D +vh_x) - 4D \\cdot u_{j} + u_{j+1} (2D  -vh_x) \\right ] \n",
    "+ q_j$$\n",
    "\n",
    "With Dirichlet-boundary condition, \n",
    "$$u_0(t) = g_1(t), \\quad u_n(t) = g_n(t) $$\n",
    "The initial Dichte is  $u^0(x)$,\n",
    "    $$ u_j(t_0) = u^0(x_j), \\qquad j = 1, \\dots, n-1 $$"
   ]
  },
  {
   "cell_type": "markdown",
   "id": "1b43b1f0",
   "metadata": {},
   "source": [
    "**Matrixnotation:** \n",
    "To change this equation to Matrixnotation, we should check the boundary condition which means when $u(x_0,t) = u_0(t) = g_1(t)$ and $u(x_n,t) = u_n(t) = g_2(t)$.\n",
    "\n",
    "Let\n",
    "$$u(t) := \\begin{pmatrix} u_1(t) \\\\ u_2(t) \\\\  \\vdots \\\\ u_{n-2} (t)\\\\ u_{n-1} (t) \\end{pmatrix} $$\n",
    "\n",
    "We can firstly assume the matrix notation without considerinig the boundary condition. For $j=1,2,....n-1$\n",
    "$$ \\begin{pmatrix} \\partial_t u_1(t) \\\\ \\partial_t u_2(t) \\\\  \\vdots \\\\ \\partial_t u_{n-2} (t)\\\\ \\partial_t u_{n-1} (t) \\end{pmatrix} = \n",
    "\\frac{1}{2h_x^2} \n",
    "    \\begin{pmatrix} \n",
    "              -4D & 2D-vh_x &  & & \\\\\n",
    "              2D+vh_x & -4D & 2D-vh_x &  & \\\\\n",
    "                & \\ddots & \\ddots & \\ddots & \\\\\n",
    "                &  & 2D+vh_x& -4D  & 2D-vh_x \\\\\n",
    "                & &  & 2D+vh_x & -4D \n",
    "              \\end{pmatrix}\n",
    "\\begin{pmatrix} u_1(t) \\\\ u_2(t) \\\\  \\vdots \\\\ u_{n-2} (t)\\\\ u_{n-1} (t) \\end{pmatrix}\n",
    "+ \\begin{pmatrix} q_1(t) \\\\ q_2(t) \\\\ \\vdots \\\\ q_{n-2} \\\\ q_{n-1} (t) \\end{pmatrix} + \\Phi $$\n",
    "\n",
    "Comparing the equation and matrix notation for $j=1$ and $j=n-1$, we have to find $\\Phi$.\n",
    "- When $j=1$, the equation that we need to solve is \n",
    "$$\\partial_t u_1  = \\frac{1}{2h_x^2}  \\left [ u_{0}(2D +vh_x) - 4D \\cdot u_{1} + u_{2} (2D  -vh_x) \\right ] + q_1$$\n",
    "However the equation we can get from the matrixnotation above is\n",
    "$$\\partial_t u_1  = \\frac{1}{2h_x^2}  \\left [- 4 \\cdot Du_{1} + u_{2} (2D  -vh_x) \\right ] + q_1$$\n",
    "This matrixnotation needs $\\frac{1}{2h_x^2} u_{0}(2D +vh_x)$ to be identical with equation.\n",
    "\n",
    "\n",
    "- When $j=n-1$, the equation that we need to solve is \n",
    "$$\\partial_t u_{n-1}  = \\frac{1}{2h_x^2}  \\left [ u_{n-2}(2D +vh_x) - 4D \\cdot u_{n-1} + u_{n} (2D  -vh_x) \\right ] + q_1$$\n",
    "However the equation we can get from the matrixnotation above is\n",
    "$$\\partial_t u_{n-1}  = \\frac{1}{2h_x^2}  \\left [ u_{n-2}(2D +vh_x) - 4 \\cdot Du_{n-1} \\right ] + q_1$$\n",
    "This matrixnotation needs $\\frac{1}{2h_x^2} u_{n} (2D  -vh_x)$ to be identical with equation.\n",
    "\n",
    "Therefore, we can set $\\Phi$ as :\n",
    "$$ \\Phi = \\frac{1}{2h_x^2}\\begin{pmatrix} u_{0}(2D +vh_x) \\\\ 0\\\\  \\vdots \\\\ 0\\\\u_{n} (2D  -vh_x) \\end{pmatrix}\n",
    " = \\frac{1}{2h_x^2}\\begin{pmatrix} g_{1}(2D +vh_x) \\\\ 0\\\\  \\vdots \\\\ 0\\\\g_{2} (2D  -vh_x) \\end{pmatrix} \\in \\mathbb{R}^{(n-1)} $$"
   ]
  },
  {
   "cell_type": "markdown",
   "id": "d2898140",
   "metadata": {},
   "source": [
    "Now we can make the complete matrixnotation for the Konvektionsdiffusionsgleichung:\n",
    "\n",
    "$$\n",
    "u(t) := \\begin{pmatrix} u_1(t) \\\\ u_2(t) \\\\  \\vdots \\\\ u_{n-2} (t)\\\\ u_{n-1} (t) \\end{pmatrix},  \\quad\n",
    "u^0  := \\begin{pmatrix} u^0(x_1) \\\\ u^0(x_2) \\\\  \\vdots \\\\ u^0(x_{n-2}) \\\\ u^0 (x_{n-1}) \\end{pmatrix},  \\quad$$\n",
    "\n",
    "$$ b(t) := \\begin{pmatrix} q_1(t) \\\\ q_2(t) \\\\ \\vdots \\\\ q_{n-2} \\\\ q_{n-1} (t) \\end{pmatrix} + \n",
    "    \\frac{1}{2h_x^2}\\begin{pmatrix} g_{1}(t)(2D +vh_x) \\\\ 0\\\\  \\vdots \\\\ 0\\\\g_{2}(t) (2D  -vh_x) \\end{pmatrix} $$\n",
    "    \n",
    "$$  A = \\frac{1}{2h_x^2} \n",
    "    \\begin{pmatrix} \n",
    "              -4D & 2D-vh_x &  & & \\\\\n",
    "              2D+vh_x & -4D & 2D-vh_x &  & \\\\\n",
    "                & \\ddots & \\ddots & \\ddots & \\\\\n",
    "                &  & 2D+vh_x& -4D  & 2D-vh_x \\\\\n",
    "                & &  & 2D+vh_x & -4D \n",
    "              \\end{pmatrix}  \\in \\mathbb{R}^{(n-1)\\times (n-1)}\n",
    "$$\n",
    "\n",
    "Then it is inhomogenous linear AWP\n",
    "\n",
    "$$\n",
    "\\boxed{ \n",
    "u^\\prime (t) = Au + b(t), \\, t \\in [t_0, t_f], \\qquad u(t_0) = u^0\n",
    "}\n",
    "$$"
   ]
  },
  {
   "cell_type": "markdown",
   "id": "12cd4949",
   "metadata": {},
   "source": [
    "## 3.2. Solver"
   ]
  },
  {
   "cell_type": "markdown",
   "id": "d72df962",
   "metadata": {},
   "source": [
    "To simplify the problem, we will set $L=1$, $D=1$ and $v=1$. Also we will test the solver for the most simplest case when Nullrandbedingungen  $g_1(t) = g_2(t) = 0$ and costant Quelle $q(x,1) = 1$."
   ]
  },
  {
   "cell_type": "code",
   "execution_count": null,
   "id": "38341123",
   "metadata": {},
   "outputs": [],
   "source": [
    "def tridiag(low, mid, up):\n",
    "    return np.diag(low, -1) + np.diag(mid, 0) + np.diag(up, 1)"
   ]
  },
  {
   "cell_type": "code",
   "execution_count": null,
   "id": "f52253e4",
   "metadata": {},
   "outputs": [],
   "source": [
    "D = 1\n",
    "L = 1.\n",
    "v = 1\n",
    "n = 5\n",
    "hx = L/n\n",
    "\n",
    "# Matrix A\n",
    "diagonal = -4*D*np.ones(n-1)\n",
    "upper = (2*D-v*hx)*np.ones(n-2)\n",
    "lower = (2*D+v*hx)*np.ones(n-2)\n",
    "matrix = tridiag(lower, diagonal, upper)\n",
    "A = matrix /(2*(hx**2))\n",
    "#print(A)\n",
    "\n",
    "# Vector b\n",
    "g_1 = 0\n",
    "g_2 = 0\n",
    "\n",
    "# Quelle\n",
    "def q_1(j, t): \n",
    "    return 1\n",
    "\n",
    "# b(t) for Konvektionsdiffusionsgleichung\n",
    "def b_kd(t):\n",
    "    b_1 = np.zeros(n-1)\n",
    "    \n",
    "    for i in range (n-1):\n",
    "        b_1[i] = q_1(i+1, t)\n",
    "\n",
    "    b_2 = np.zeros(n-1)\n",
    "    b_2[0] = g_1*(2*D+v*hx)\n",
    "    b_2[-1] = g_2*(2*D-v*hx)\n",
    "    \n",
    "    return b_1 + (1/(2*hx**2))*b_2\n",
    "\n",
    "print(\"A = \", A)\n",
    "eigenvalues, _ = eig(A)\n",
    "eigenvalues.sort()\n",
    "print(\"eigenvalues are \", eigenvalues)"
   ]
  },
  {
   "cell_type": "markdown",
   "id": "4581e088",
   "metadata": {},
   "source": [
    "Before solving with numerical solver such as implicit and explicit Euler Method, we should decide the Zeitschrittbeschranke. As we found in Aufgabe 1, all eigenvalues of matrix $A$ sould be all real and negative numbers. With eigenvalues, we can decide the value of Zeitschrittweit $ \\tau $ to be used for the numerical solver so that process will be asymptotic stable.   \n",
    "\n",
    "- Explicit Euler Method\n",
    "$$ y^j = y^0 (1 + h\\lambda)^j$$\n",
    "To have aymptotic stability, $\\lim_{j \\to \\infty} y^j$ should approach $0$ and it gives the restriction for $ 1+h\\lambda$ \n",
    "$$ -1 < 1 + h\\lambda < 1 $$\n",
    "$$ -2 < h\\lambda < 0 $$\n",
    "$$  h < \\frac{2}{|\\lambda| } $$\n",
    "Therefore the Zeitschrittbeschranke, the maximum Zeitschritt $\\tau$, is :\n",
    "$$ \\tau < \\frac{2}{| \\lambda_\\mathrm{max} |} $$\n",
    "\n",
    "\n",
    "- Implicit Euler Method\n",
    "$$ y^j = y^0 \\left( \\frac{1}{1 - h\\lambda} \\right)^j $$\n",
    "Since eigenvalues of matrix $A$ are negative ($\\lambda \\ll 0$),  $\\frac{1}{1 - h\\lambda}$ is always between $(0,1)$, regardless of the value of $h$. Therefore, we don't need to set the limitation for the maximum Zeitschritt $\\tau$. Regardless of $\\tau = h$, the process will be always converged. "
   ]
  },
  {
   "cell_type": "markdown",
   "id": "d1c64e8d",
   "metadata": {},
   "source": [
    "The matrix $A$ for our case is \n",
    "$$ A =  \\begin{pmatrix}\n",
    "-50 & 22.5 & 0 & 0 \\\\\n",
    "27.5 & -50 &22.5  &0  \\\\\n",
    "0 & 27.5 & -50 & 22.5 \\\\\n",
    "0 & 0 & 27.5 & -50 \\\\\n",
    "\\end{pmatrix}$$\n",
    "The eigenvalues are $-90.248$, $-65.373$, $-34.627$ and $-9.752$. As we expected, they are all real and negative. For explicit Euler method, we should set the maximum Zeitschrittweit as \n",
    "$$ \\tau < \\frac{2}{| \\lambda_\\mathrm{max} |} = \\frac{2}{| -90.248 |} \\approx 0.0222$$\n",
    "For implicit Euler method, we can use any value of Zeitschrittweit."
   ]
  },
  {
   "cell_type": "code",
   "execution_count": null,
   "id": "e038c365",
   "metadata": {},
   "outputs": [],
   "source": [
    "# Function\n",
    "def f(t, y): # y means u here\n",
    "    return np.matmul(A,y) + b_kd(t)\n",
    "\n",
    "def f_jac(t, y):\n",
    "    return A\n",
    "\n",
    "# Anfangsbedingung\n",
    "u0 = np.zeros(n-1) # from u_1 to u_(n-1)\n",
    "t0 = 0\n",
    "tf = 1\n",
    "t_span = (t0, tf)       # Zeitintervall als Tupel"
   ]
  },
  {
   "cell_type": "code",
   "execution_count": null,
   "id": "de31324a",
   "metadata": {},
   "outputs": [],
   "source": [
    "fig = plt.figure(figsize=(10,10))\n",
    "\n",
    "N  = 10   # Azahl Zeitschritte\n",
    "tk = np.linspace(t0, tf, N+1)\n",
    "xj = np.linspace(0, L, n+1)\n",
    "y_all_im = np.zeros( (n+1, N+1) )  # erster Index Ort, zweiter Index Zeit\n",
    "y_all_ex = np.zeros( (n+1, N+1) )  # erster Index Ort, zweiter Index Zeit\n",
    "\n",
    "ax1 = fig.add_subplot(221,projection='3d')\n",
    "solution_ex = ode.euler_forward(f, t_span, u0, tk)\n",
    "u_k_ex = solution_ex.y # from u_1 to u_(n-1)\n",
    "# add the 'Randpunkte'\n",
    "y_all_ex[0, :] = g_1\n",
    "y_all_ex[-1, :] = g_2\n",
    "# add the points, which are produced by the explicit euler method\n",
    "for k in range(1,n):    \n",
    "    y_all_ex[k, :] = u_k_ex[k-1, :]\n",
    "TK, XJ = np.meshgrid(tk, xj)    # erzeugt Matrizen derselben Dimension wir y_all\n",
    "ax1.plot_wireframe(TK, XJ, y_all_ex)\n",
    "ax1.set_xlabel('t')\n",
    "ax1.set_ylabel('x')\n",
    "ax1.set_zlabel('u')\n",
    "ax1.set_title('explicit Euler, h=0.1')\n",
    "\n",
    "ax2 = fig.add_subplot(222,projection='3d')\n",
    "solution_im = ode.euler_backward(f, t_span, u0, tk, f_jac)\n",
    "u_k_im = solution_im.y # from u_1 to u_(n-1)\n",
    "# add the 'Randpunkte'\n",
    "y_all_im[0, :] = g_1\n",
    "y_all_im[-1, :] = g_2\n",
    "# add the points, which are produced by the implicit euler method \n",
    "for k in range(1,n):\n",
    "    y_all_im[k, :] = u_k_im[k-1, :]\n",
    "TK, XJ = np.meshgrid(tk, xj)    # erzeugt Matrizen derselben Dimension wir y_all\n",
    "ax2.plot_wireframe(TK, XJ, y_all_im)\n",
    "ax2.set_xlabel('t')\n",
    "ax2.set_ylabel('x')\n",
    "ax2.set_zlabel('u')\n",
    "ax2.set_title('implicit Euler, h=0.1')\n",
    "\n",
    "\n",
    "\n",
    "N  = 100   # Azahl Zeitschritte\n",
    "tk = np.linspace(t0, tf, N+1)\n",
    "xj = np.linspace(0, L, n+1)\n",
    "y_all_im = np.zeros( (n+1, N+1) )  # erster Index Ort, zweiter Index Zeit\n",
    "y_all_ex = np.zeros( (n+1, N+1) )  # erster Index Ort, zweiter Index Zeit\n",
    "\n",
    "ax3 = fig.add_subplot(223,projection='3d')\n",
    "solution_ex = ode.euler_forward(f, t_span, u0, tk)\n",
    "u_k_ex = solution_ex.y # from u_1 to u_(n-1)\n",
    "# add the 'Randpunkte'\n",
    "y_all_ex[0, :] = g_1\n",
    "y_all_ex[-1, :] = g_2\n",
    "# add the points, which are produced by the explicit euler method\n",
    "for k in range(1,n):    \n",
    "    y_all_ex[k, :] = u_k_ex[k-1, :]\n",
    "TK, XJ = np.meshgrid(tk, xj)    # erzeugt Matrizen derselben Dimension wir y_all\n",
    "ax3.plot_wireframe(TK, XJ, y_all_ex)\n",
    "ax3.set_xlabel('t')\n",
    "ax3.set_ylabel('x')\n",
    "ax3.set_zlabel('u')\n",
    "ax3.set_title('explicit Euler, h=0.01')\n",
    "\n",
    "ax4 = fig.add_subplot(224,projection='3d')\n",
    "solution_im = ode.euler_backward(f, t_span, u0, tk, f_jac)\n",
    "u_k_im = solution_im.y # from u_1 to u_(n-1)\n",
    "# add the 'Randpunkte'\n",
    "y_all_im[0, :] = g_1\n",
    "y_all_im[-1, :] = g_2\n",
    "# add the points, which are produced by the implicit euler method \n",
    "for k in range(1,n):\n",
    "    y_all_im[k, :] = u_k_im[k-1, :]\n",
    "TK, XJ = np.meshgrid(tk, xj)    # erzeugt Matrizen derselben Dimension wir y_all\n",
    "ax4.plot_wireframe(TK, XJ, y_all_im)\n",
    "ax4.set_xlabel('t')\n",
    "ax4.set_ylabel('x')\n",
    "ax4.set_zlabel('u')\n",
    "ax4.set_title('implicit Euler, h=0.01')\n",
    "\n",
    "plt.show()"
   ]
  },
  {
   "cell_type": "markdown",
   "id": "88771ccf",
   "metadata": {},
   "source": [
    "From 2 graphs of implicit Euler method with $h=0.1$ and $h=0.01$, the numerical solution of both cases behave like continous solution. However, for expicit Euler method, only case with Euler $h=0.01$ behaves like continous solution. When $h=0.1$, the shape of graph is not converged, because Zeitshcrittweit $h=0.1$ is bigger that its Zeitschrittbeschranke $0.0222$.    "
   ]
  },
  {
   "cell_type": "code",
   "execution_count": null,
   "id": "0e52ad50",
   "metadata": {},
   "outputs": [],
   "source": []
  },
  {
   "cell_type": "code",
   "execution_count": null,
   "id": "d0556f00",
   "metadata": {},
   "outputs": [],
   "source": []
  }
 ],
 "metadata": {
  "kernelspec": {
   "display_name": "Python 3 (ipykernel)",
   "language": "python",
   "name": "python3"
  },
  "language_info": {
   "codemirror_mode": {
    "name": "ipython",
    "version": 3
   },
   "file_extension": ".py",
   "mimetype": "text/x-python",
   "name": "python",
   "nbconvert_exporter": "python",
   "pygments_lexer": "ipython3",
   "version": "3.11.3"
  }
 },
 "nbformat": 4,
 "nbformat_minor": 5
}
